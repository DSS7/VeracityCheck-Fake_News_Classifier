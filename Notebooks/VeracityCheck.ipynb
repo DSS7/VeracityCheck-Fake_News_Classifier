{
 "cells": [
  {
   "cell_type": "code",
   "execution_count": null,
   "id": "067dc227",
   "metadata": {
    "vscode": {
     "languageId": "plaintext"
    }
   },
   "outputs": [],
   "source": [
    "import pandas as pd\n",
    "import numpy as np"
   ]
  },
  {
   "cell_type": "code",
   "execution_count": null,
   "id": "fdd0df44",
   "metadata": {
    "vscode": {
     "languageId": "plaintext"
    }
   },
   "outputs": [],
   "source": [
    "train_df = pd.read_csv(\"../Dataset/LIAR DATASET/train.tsv\", sep='\\t', header=None)\n",
    "valid_df = pd.read_csv(\"../Dataset/LIAR DATASET/valid.tsv\", sep='\\t', header=None)\n",
    "test_df  = pd.read_csv(\"../Dataset/LIAR DATASET/test.tsv\", sep='\\t', header=None)"
   ]
  },
  {
   "cell_type": "code",
   "execution_count": null,
   "id": "35b7c880",
   "metadata": {
    "vscode": {
     "languageId": "plaintext"
    }
   },
   "outputs": [],
   "source": [
    "|train_df.head()\n",
    "valid_df.head()\n",
    "test_df.head()||"
   ]
  },
  {
   "cell_type": "code",
   "execution_count": null,
   "id": "7fffd2ba",
   "metadata": {
    "vscode": {
     "languageId": "plaintext"
    }
   },
   "outputs": [],
   "source": []
  }
 ],
 "metadata": {
  "language_info": {
   "name": "python"
  }
 },
 "nbformat": 4,
 "nbformat_minor": 5
}
