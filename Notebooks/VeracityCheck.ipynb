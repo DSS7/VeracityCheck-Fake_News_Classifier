{
 "cells": [
  {
   "cell_type": "markdown",
   "id": "067dc227",
   "metadata": {},
   "source": [
    "### Understanding the Data"
   ]
  },
  {
   "cell_type": "code",
   "execution_count": 74,
   "id": "e52a6a1b",
   "metadata": {},
   "outputs": [
    {
     "name": "stdout",
     "output_type": "stream",
     "text": [
      "Requirement already satisfied: xgboost in c:\\users\\37789\\onedrive\\documents\\github\\veracitycheck-fake_news_classifier\\venv\\lib\\site-packages (3.0.5)\n",
      "Requirement already satisfied: numpy in c:\\users\\37789\\onedrive\\documents\\github\\veracitycheck-fake_news_classifier\\venv\\lib\\site-packages (from xgboost) (2.3.2)\n",
      "Requirement already satisfied: scipy in c:\\users\\37789\\onedrive\\documents\\github\\veracitycheck-fake_news_classifier\\venv\\lib\\site-packages (from xgboost) (1.16.1)\n"
     ]
    },
    {
     "name": "stderr",
     "output_type": "stream",
     "text": [
      "[nltk_data] Downloading package stopwords to\n",
      "[nltk_data]     C:\\Users\\37789\\AppData\\Roaming\\nltk_data...\n",
      "[nltk_data]   Package stopwords is already up-to-date!\n",
      "[nltk_data] Downloading package wordnet to\n",
      "[nltk_data]     C:\\Users\\37789\\AppData\\Roaming\\nltk_data...\n",
      "[nltk_data]   Package wordnet is already up-to-date!\n",
      "[nltk_data] Downloading package omw-1.4 to\n",
      "[nltk_data]     C:\\Users\\37789\\AppData\\Roaming\\nltk_data...\n",
      "[nltk_data]   Package omw-1.4 is already up-to-date!\n"
     ]
    },
    {
     "data": {
      "text/plain": [
       "True"
      ]
     },
     "execution_count": 74,
     "metadata": {},
     "output_type": "execute_result"
    }
   ],
   "source": [
    "import pandas as pd\n",
    "import numpy as np\n",
    "import matplotlib.pyplot as plt\n",
    "import re\n",
    "from nltk.corpus import stopwords\n",
    "from sklearn.feature_extraction.text import TfidfVectorizer\n",
    "from scipy.sparse import csr_matrix, hstack\n",
    "\n",
    "from sklearn.naive_bayes import MultinomialNB\n",
    "from sklearn.linear_model import LogisticRegression, SGDClassifier\n",
    "from sklearn.svm import LinearSVC\n",
    "from sklearn.ensemble import RandomForestClassifier\n",
    "!pip install xgboost\n",
    "from xgboost import XGBClassifier\n",
    "from sklearn.metrics import accuracy_score, classification_report\n",
    "\n",
    "# Download stopwords if not already\n",
    "import nltk\n",
    "from nltk.stem import WordNetLemmatizer\n",
    "nltk.download('stopwords')\n",
    "stop_words = set(stopwords.words('english'))\n",
    "\n",
    "# Download WordNet if not already\n",
    "nltk.download('wordnet')\n",
    "nltk.download('omw-1.4')"
   ]
  },
  {
   "cell_type": "code",
   "execution_count": 75,
   "id": "fdd0df44",
   "metadata": {},
   "outputs": [],
   "source": [
    "train_df = pd.read_csv(\"../Dataset/LIAR DATASET/train.tsv\", sep='\\t', header=None)\n",
    "valid_df = pd.read_csv(\"../Dataset/LIAR DATASET/valid.tsv\", sep='\\t', header=None)\n",
    "test_df  = pd.read_csv(\"../Dataset/LIAR DATASET/test.tsv\", sep='\\t', header=None)"
   ]
  },
  {
   "cell_type": "code",
   "execution_count": 76,
   "id": "d124f4d2",
   "metadata": {},
   "outputs": [],
   "source": [
    "columns = [\n",
    "    \"id\", \"label\", \"statement\", \"subject\", \"speaker\", \"job_title\", \n",
    "    \"state\", \"party\", \"barely_true\", \"false\", \"half_true\", \n",
    "    \"mostly_true\", \"pants_fire\", \"context\"\n",
    "]\n",
    "\n",
    "train_df.columns = columns\n",
    "valid_df.columns = columns\n",
    "test_df.columns  = columns\n"
   ]
  },
  {
   "cell_type": "code",
   "execution_count": 77,
   "id": "7fffd2ba",
   "metadata": {},
   "outputs": [
    {
     "data": {
      "text/html": [
       "<div>\n",
       "<style scoped>\n",
       "    .dataframe tbody tr th:only-of-type {\n",
       "        vertical-align: middle;\n",
       "    }\n",
       "\n",
       "    .dataframe tbody tr th {\n",
       "        vertical-align: top;\n",
       "    }\n",
       "\n",
       "    .dataframe thead th {\n",
       "        text-align: right;\n",
       "    }\n",
       "</style>\n",
       "<table border=\"1\" class=\"dataframe\">\n",
       "  <thead>\n",
       "    <tr style=\"text-align: right;\">\n",
       "      <th></th>\n",
       "      <th>id</th>\n",
       "      <th>label</th>\n",
       "      <th>statement</th>\n",
       "      <th>subject</th>\n",
       "      <th>speaker</th>\n",
       "      <th>job_title</th>\n",
       "      <th>state</th>\n",
       "      <th>party</th>\n",
       "      <th>barely_true</th>\n",
       "      <th>false</th>\n",
       "      <th>half_true</th>\n",
       "      <th>mostly_true</th>\n",
       "      <th>pants_fire</th>\n",
       "      <th>context</th>\n",
       "    </tr>\n",
       "  </thead>\n",
       "  <tbody>\n",
       "    <tr>\n",
       "      <th>0</th>\n",
       "      <td>2635.json</td>\n",
       "      <td>false</td>\n",
       "      <td>Says the Annies List political group supports ...</td>\n",
       "      <td>abortion</td>\n",
       "      <td>dwayne-bohac</td>\n",
       "      <td>State representative</td>\n",
       "      <td>Texas</td>\n",
       "      <td>republican</td>\n",
       "      <td>0.0</td>\n",
       "      <td>1.0</td>\n",
       "      <td>0.0</td>\n",
       "      <td>0.0</td>\n",
       "      <td>0.0</td>\n",
       "      <td>a mailer</td>\n",
       "    </tr>\n",
       "    <tr>\n",
       "      <th>1</th>\n",
       "      <td>10540.json</td>\n",
       "      <td>half-true</td>\n",
       "      <td>When did the decline of coal start? It started...</td>\n",
       "      <td>energy,history,job-accomplishments</td>\n",
       "      <td>scott-surovell</td>\n",
       "      <td>State delegate</td>\n",
       "      <td>Virginia</td>\n",
       "      <td>democrat</td>\n",
       "      <td>0.0</td>\n",
       "      <td>0.0</td>\n",
       "      <td>1.0</td>\n",
       "      <td>1.0</td>\n",
       "      <td>0.0</td>\n",
       "      <td>a floor speech.</td>\n",
       "    </tr>\n",
       "    <tr>\n",
       "      <th>2</th>\n",
       "      <td>324.json</td>\n",
       "      <td>mostly-true</td>\n",
       "      <td>Hillary Clinton agrees with John McCain \"by vo...</td>\n",
       "      <td>foreign-policy</td>\n",
       "      <td>barack-obama</td>\n",
       "      <td>President</td>\n",
       "      <td>Illinois</td>\n",
       "      <td>democrat</td>\n",
       "      <td>70.0</td>\n",
       "      <td>71.0</td>\n",
       "      <td>160.0</td>\n",
       "      <td>163.0</td>\n",
       "      <td>9.0</td>\n",
       "      <td>Denver</td>\n",
       "    </tr>\n",
       "    <tr>\n",
       "      <th>3</th>\n",
       "      <td>1123.json</td>\n",
       "      <td>false</td>\n",
       "      <td>Health care reform legislation is likely to ma...</td>\n",
       "      <td>health-care</td>\n",
       "      <td>blog-posting</td>\n",
       "      <td>NaN</td>\n",
       "      <td>NaN</td>\n",
       "      <td>none</td>\n",
       "      <td>7.0</td>\n",
       "      <td>19.0</td>\n",
       "      <td>3.0</td>\n",
       "      <td>5.0</td>\n",
       "      <td>44.0</td>\n",
       "      <td>a news release</td>\n",
       "    </tr>\n",
       "    <tr>\n",
       "      <th>4</th>\n",
       "      <td>9028.json</td>\n",
       "      <td>half-true</td>\n",
       "      <td>The economic turnaround started at the end of ...</td>\n",
       "      <td>economy,jobs</td>\n",
       "      <td>charlie-crist</td>\n",
       "      <td>NaN</td>\n",
       "      <td>Florida</td>\n",
       "      <td>democrat</td>\n",
       "      <td>15.0</td>\n",
       "      <td>9.0</td>\n",
       "      <td>20.0</td>\n",
       "      <td>19.0</td>\n",
       "      <td>2.0</td>\n",
       "      <td>an interview on CNN</td>\n",
       "    </tr>\n",
       "  </tbody>\n",
       "</table>\n",
       "</div>"
      ],
      "text/plain": [
       "           id        label                                          statement  \\\n",
       "0   2635.json        false  Says the Annies List political group supports ...   \n",
       "1  10540.json    half-true  When did the decline of coal start? It started...   \n",
       "2    324.json  mostly-true  Hillary Clinton agrees with John McCain \"by vo...   \n",
       "3   1123.json        false  Health care reform legislation is likely to ma...   \n",
       "4   9028.json    half-true  The economic turnaround started at the end of ...   \n",
       "\n",
       "                              subject         speaker             job_title  \\\n",
       "0                            abortion    dwayne-bohac  State representative   \n",
       "1  energy,history,job-accomplishments  scott-surovell        State delegate   \n",
       "2                      foreign-policy    barack-obama             President   \n",
       "3                         health-care    blog-posting                   NaN   \n",
       "4                        economy,jobs   charlie-crist                   NaN   \n",
       "\n",
       "      state       party  barely_true  false  half_true  mostly_true  \\\n",
       "0     Texas  republican          0.0    1.0        0.0          0.0   \n",
       "1  Virginia    democrat          0.0    0.0        1.0          1.0   \n",
       "2  Illinois    democrat         70.0   71.0      160.0        163.0   \n",
       "3       NaN        none          7.0   19.0        3.0          5.0   \n",
       "4   Florida    democrat         15.0    9.0       20.0         19.0   \n",
       "\n",
       "   pants_fire              context  \n",
       "0         0.0             a mailer  \n",
       "1         0.0      a floor speech.  \n",
       "2         9.0               Denver  \n",
       "3        44.0       a news release  \n",
       "4         2.0  an interview on CNN  "
      ]
     },
     "execution_count": 77,
     "metadata": {},
     "output_type": "execute_result"
    }
   ],
   "source": [
    "# First few rows\n",
    "train_df.head()"
   ]
  },
  {
   "cell_type": "code",
   "execution_count": 78,
   "id": "2fcb74b7",
   "metadata": {},
   "outputs": [
    {
     "name": "stdout",
     "output_type": "stream",
     "text": [
      "             Train  Validation  Test\n",
      "id               0           0     0\n",
      "label            0           0     0\n",
      "statement        0           0     0\n",
      "subject          2           0     0\n",
      "speaker          2           0     0\n",
      "job_title     2898         345   325\n",
      "state         2210         279   262\n",
      "party            2           0     0\n",
      "barely_true      2           0     0\n",
      "false            2           0     0\n",
      "half_true        2           0     0\n",
      "mostly_true      2           0     0\n",
      "pants_fire       2           0     0\n",
      "context        102          12    17\n"
     ]
    }
   ],
   "source": [
    "# Combine missing values side by side\n",
    "missing_summary = pd.concat([\n",
    "    train_df.isnull().sum().rename('Train'),\n",
    "    valid_df.isnull().sum().rename('Validation'),\n",
    "    test_df.isnull().sum().rename('Test')\n",
    "], axis=1)\n",
    "\n",
    "print(missing_summary)"
   ]
  },
  {
   "cell_type": "code",
   "execution_count": 79,
   "id": "512ac6a9",
   "metadata": {},
   "outputs": [
    {
     "data": {
      "text/plain": [
       "label\n",
       "half-true      2114\n",
       "false          1995\n",
       "mostly-true    1962\n",
       "true           1676\n",
       "barely-true    1654\n",
       "pants-fire      839\n",
       "Name: count, dtype: int64"
      ]
     },
     "execution_count": 79,
     "metadata": {},
     "output_type": "execute_result"
    }
   ],
   "source": [
    "# Class distribution\n",
    "train_df[\"label\"].value_counts()"
   ]
  },
  {
   "cell_type": "code",
   "execution_count": 80,
   "id": "9e893bc7",
   "metadata": {},
   "outputs": [
    {
     "name": "stdout",
     "output_type": "stream",
     "text": [
      "Train: 10240\n",
      "Validation: 1284\n",
      "Test: 1267\n"
     ]
    }
   ],
   "source": [
    "print(\"Train:\", len(train_df))\n",
    "print(\"Validation:\", len(valid_df))\n",
    "print(\"Test:\", len(test_df))\n"
   ]
  },
  {
   "cell_type": "code",
   "execution_count": 81,
   "id": "dc00ff4d",
   "metadata": {},
   "outputs": [
    {
     "name": "stdout",
     "output_type": "stream",
     "text": [
      "<class 'pandas.core.frame.DataFrame'>\n",
      "RangeIndex: 10240 entries, 0 to 10239\n",
      "Data columns (total 14 columns):\n",
      " #   Column       Non-Null Count  Dtype  \n",
      "---  ------       --------------  -----  \n",
      " 0   id           10240 non-null  object \n",
      " 1   label        10240 non-null  object \n",
      " 2   statement    10240 non-null  object \n",
      " 3   subject      10238 non-null  object \n",
      " 4   speaker      10238 non-null  object \n",
      " 5   job_title    7342 non-null   object \n",
      " 6   state        8030 non-null   object \n",
      " 7   party        10238 non-null  object \n",
      " 8   barely_true  10238 non-null  float64\n",
      " 9   false        10238 non-null  float64\n",
      " 10  half_true    10238 non-null  float64\n",
      " 11  mostly_true  10238 non-null  float64\n",
      " 12  pants_fire   10238 non-null  float64\n",
      " 13  context      10138 non-null  object \n",
      "dtypes: float64(5), object(9)\n",
      "memory usage: 1.1+ MB\n"
     ]
    }
   ],
   "source": [
    "train_df.info()"
   ]
  },
  {
   "cell_type": "code",
   "execution_count": 82,
   "id": "f3e591ba",
   "metadata": {},
   "outputs": [
    {
     "data": {
      "image/png": "[encoded data removed]",
      "text/plain": [
       "<Figure size 800x500 with 1 Axes>"
      ]
     },
     "metadata": {},
     "output_type": "display_data"
    }
   ],
   "source": [
    "plt.figure(figsize=(8,5))\n",
    "train_df[\"label\"].value_counts().plot(kind='bar')\n",
    "plt.title(\"Label Distribution in Train Set\")\n",
    "plt.xlabel(\"Label\")\n",
    "plt.ylabel(\"Count\")\n",
    "plt.tight_layout()\n",
    "plt.show()\n"
   ]
  },
  {
   "cell_type": "code",
   "execution_count": 83,
   "id": "af95fd7b",
   "metadata": {},
   "outputs": [
    {
     "name": "stdout",
     "output_type": "stream",
     "text": [
      "Categorical features: ['id', 'label', 'statement', 'subject', 'speaker', 'job_title', 'state', 'party', 'context']\n",
      "Numerical features: ['barely_true', 'false', 'half_true', 'mostly_true', 'pants_fire']\n"
     ]
    }
   ],
   "source": [
    "# Separate categorical and numerical features\n",
    "categorical_features = train_df.select_dtypes(include=['object']).columns.tolist()\n",
    "numerical_features = train_df.select_dtypes(include=['int64', 'float64']).columns.tolist()\n",
    "\n",
    "print(\"Categorical features:\", categorical_features)\n",
    "print(\"Numerical features:\", numerical_features)"
   ]
  },
  {
   "cell_type": "markdown",
   "id": "cc2360d4",
   "metadata": {},
   "source": [
    "##### Dropping `id` column  \n",
    "- The `id` column is just a unique identifier and does not provide any predictive power. We will drop it from our dataset before training the model.\n"
   ]
  },
  {
   "cell_type": "code",
   "execution_count": 84,
   "id": "fb1df805",
   "metadata": {},
   "outputs": [],
   "source": [
    "# Drop 'id' column from train, valid, and test datasets\n",
    "train_df = train_df.drop(columns=[\"id\"])\n",
    "valid_df = valid_df.drop(columns=[\"id\"])\n",
    "test_df = test_df.drop(columns=[\"id\"])"
   ]
  },
  {
   "cell_type": "code",
   "execution_count": 85,
   "id": "15a89455",
   "metadata": {},
   "outputs": [],
   "source": [
    "# Drop rows with missing numerical values\n",
    "train_df = train_df.dropna(subset=['barely_true', 'false', 'half_true', 'mostly_true', 'pants_fire'])\n",
    "valid_df = valid_df.dropna(subset=['barely_true', 'false', 'half_true', 'mostly_true', 'pants_fire'])\n",
    "test_df  = test_df.dropna(subset=['barely_true', 'false', 'half_true', 'mostly_true', 'pants_fire'])"
   ]
  },
  {
   "cell_type": "markdown",
   "id": "d070284b",
   "metadata": {},
   "source": [
    "##### Encoding the `label` Column\n",
    "- We map the textual labels to numbers because machine learning models require numerical targets.  \n",
    "- Each class is assigned a unique number. Although the numbers are ordered, they do **not** imply importance or magnitude; they are just identifiers for the classifier.\n"
   ]
  },
  {
   "cell_type": "code",
   "execution_count": 86,
   "id": "11dd1cf2",
   "metadata": {},
   "outputs": [
    {
     "data": {
      "text/plain": [
       "label\n",
       "3    2114\n",
       "1    1993\n",
       "4    1962\n",
       "5    1676\n",
       "2    1654\n",
       "0     839\n",
       "Name: count, dtype: int64"
      ]
     },
     "execution_count": 86,
     "metadata": {},
     "output_type": "execute_result"
    }
   ],
   "source": [
    "# Define the mapping\n",
    "label_mapping = {\n",
    "    \"pants-fire\": 0,\n",
    "    \"false\": 1,\n",
    "    \"barely-true\": 2,\n",
    "    \"half-true\": 3,\n",
    "    \"mostly-true\": 4,\n",
    "    \"true\": 5\n",
    "}\n",
    "\n",
    "# Apply the mapping to train, valid, and test datasets\n",
    "train_df[\"label\"] = train_df[\"label\"].map(label_mapping)\n",
    "valid_df[\"label\"] = valid_df[\"label\"].map(label_mapping)\n",
    "test_df[\"label\"]  = test_df[\"label\"].map(label_mapping)\n",
    "\n",
    "# Verify\n",
    "train_df[\"label\"].value_counts()\n"
   ]
  },
  {
   "cell_type": "markdown",
   "id": "4c5bf513",
   "metadata": {},
   "source": [
    "#### Handling \"Context\""
   ]
  },
  {
   "cell_type": "code",
   "execution_count": 87,
   "id": "42c899dc",
   "metadata": {},
   "outputs": [
    {
     "name": "stdout",
     "output_type": "stream",
     "text": [
      "Unique contexts in train: ['a mailer' 'a floor speech.' 'Denver' ...\n",
      " 'a recorded telephone message to Cranston residents'\n",
      " 'interview on \"The Colbert Report\"'\n",
      " \"a televised debate on Miami's WPLG-10 against Kendrick Meek.\"]\n",
      "Number of unique contexts: 4345\n"
     ]
    }
   ],
   "source": [
    "print(\"Unique contexts in train:\", train_df['context'].unique())\n",
    "print(\"Number of unique contexts:\", train_df['context'].nunique())"
   ]
  },
  {
   "cell_type": "markdown",
   "id": "c5f07c5b",
   "metadata": {},
   "source": [
    "### Dropping 'context' Feature\n",
    "- We are dropping the 'context' feature because it has **extremely high cardinality** (4,345 unique values).  \n",
    "- One-Hot Encoding would create thousands of sparse columns, which is inefficient and may not improve model performance.  \n",
    "- Most of the textual information is already captured in the 'statement' column, so dropping 'context' is a practical choice for this project.\n"
   ]
  },
  {
   "cell_type": "code",
   "execution_count": 88,
   "id": "d84d56b5",
   "metadata": {},
   "outputs": [],
   "source": [
    "# Drop 'context' column from train, valid, and test datasets\n",
    "train_df = train_df.drop(columns=['context'])\n",
    "valid_df = valid_df.drop(columns=['context'])\n",
    "test_df  = test_df.drop(columns=['context'])\n"
   ]
  },
  {
   "cell_type": "code",
   "execution_count": 89,
   "id": "67a4790e",
   "metadata": {},
   "outputs": [
    {
     "name": "stdout",
     "output_type": "stream",
     "text": [
      "             Train_Missing  Validation_Missing  Test_Missing    Dtype\n",
      "label                    0                   0             0    int64\n",
      "statement                0                   0             0   object\n",
      "subject                  0                   0             0   object\n",
      "speaker                  0                   0             0   object\n",
      "job_title             2896                 345           325   object\n",
      "state                 2208                 279           262   object\n",
      "party                    0                   0             0   object\n",
      "barely_true              0                   0             0  float64\n",
      "false                    0                   0             0  float64\n",
      "half_true                0                   0             0  float64\n",
      "mostly_true              0                   0             0  float64\n",
      "pants_fire               0                   0             0  float64\n"
     ]
    }
   ],
   "source": [
    "missing_summary = pd.concat([\n",
    "    train_df.isnull().sum().rename('Train_Missing'),\n",
    "    valid_df.isnull().sum().rename('Validation_Missing'),\n",
    "    test_df.isnull().sum().rename('Test_Missing'),\n",
    "    train_df.dtypes.rename('Dtype')\n",
    "], axis=1)\n",
    "\n",
    "print(missing_summary)\n"
   ]
  },
  {
   "cell_type": "code",
   "execution_count": 90,
   "id": "d415762a",
   "metadata": {},
   "outputs": [
    {
     "name": "stdout",
     "output_type": "stream",
     "text": [
      "Unique subject in train: 3827\n",
      "Unique subject in valid: 734\n",
      "Unique subject in test:  732\n",
      "----------------------------------------\n",
      "Unique speaker in train: 2910\n",
      "Unique speaker in valid: 662\n",
      "Unique speaker in test:  636\n",
      "----------------------------------------\n",
      "Unique party in train: 23\n",
      "Unique party in valid: 16\n",
      "Unique party in test:  16\n",
      "----------------------------------------\n"
     ]
    }
   ],
   "source": [
    "# Check unique values in categorical features\n",
    "for col in [\"subject\", \"speaker\", \"party\"]:\n",
    "    print(f\"Unique {col} in train: {train_df[col].nunique()}\")\n",
    "    print(f\"Unique {col} in valid: {valid_df[col].nunique()}\")\n",
    "    print(f\"Unique {col} in test:  {test_df[col].nunique()}\")\n",
    "    print(\"-\" * 40)"
   ]
  },
  {
   "cell_type": "markdown",
   "id": "1d5aa2d2",
   "metadata": {},
   "source": [
    "### Handling `party` Feature  \n",
    "\n",
    "We are keeping the **party** feature because political affiliation is often strongly correlated with the type of statements made and their truthfulness.  \n",
    "\n",
    "- **Why One-Hot Encoding?**  \n",
    "  - `party` has only 23 unique categories, which is a manageable number.  \n",
    "  - One-hot encoding avoids introducing any false ordering (which would happen with label encoding).  \n",
    "  - It keeps the feature interpretable and works well with most machine learning algorithms.  \n",
    "\n",
    "- **Why not other methods?**  \n",
    "  - *Label Encoding*: Imposes an artificial ranking among parties (e.g., republican > democrat), which doesn’t make sense.  \n",
    "  - *Frequency Encoding*: Would compress categories into a single number but lose interpretability.  \n",
    "  - *Dropping the feature*: Would discard potentially useful information.  \n",
    "\n",
    "👉 Therefore, we apply **One-Hot Encoding** to `party`.\n"
   ]
  },
  {
   "cell_type": "code",
   "execution_count": 91,
   "id": "95c19dfe",
   "metadata": {},
   "outputs": [
    {
     "name": "stdout",
     "output_type": "stream",
     "text": [
      "Train shape: (10238, 34)\n",
      "Validation shape: (1284, 34)\n",
      "Test shape: (1267, 34)\n"
     ]
    }
   ],
   "source": [
    "# One-hot encode 'party' for train, valid, and test\n",
    "train_df = pd.get_dummies(train_df, columns=[\"party\"], prefix=\"party\")\n",
    "valid_df = pd.get_dummies(valid_df, columns=[\"party\"], prefix=\"party\")\n",
    "test_df  = pd.get_dummies(test_df,  columns=[\"party\"], prefix=\"party\")\n",
    "\n",
    "# Align columns so all datasets have the same structure\n",
    "train_df, valid_df = train_df.align(valid_df, join='left', axis=1, fill_value=0)\n",
    "train_df, test_df  = train_df.align(test_df,  join='left', axis=1, fill_value=0)\n",
    "\n",
    "# Convert one-hot columns to integers\n",
    "party_cols = [col for col in train_df.columns if col.startswith(\"party_\")]\n",
    "train_df[party_cols] = train_df[party_cols].astype(int)\n",
    "valid_df[party_cols] = valid_df[party_cols].astype(int)\n",
    "test_df[party_cols]  = test_df[party_cols].astype(int)\n",
    "\n",
    "print(\"Train shape:\", train_df.shape)\n",
    "print(\"Validation shape:\", valid_df.shape)\n",
    "print(\"Test shape:\", test_df.shape)"
   ]
  },
  {
   "cell_type": "markdown",
   "id": "580f0f76",
   "metadata": {},
   "source": [
    "### Handling `subject` Feature  \n",
    "\n",
    "We are keeping the **subject** feature because it provides information about the topic of the statement, which can be useful for predicting its veracity.  \n",
    "\n",
    "- **Why TF-IDF vectorization?**  \n",
    "  - `subject` has very high cardinality (~3800 unique values), making one-hot encoding impractical.  \n",
    "  - TF-IDF converts text into numerical features while preserving semantic information.  \n",
    "  - Allows the model to understand similarities between topics (e.g., \"healthcare\" and \"medicare\").  \n",
    "\n",
    "- **Why not other methods?**  \n",
    "  - *One-hot Encoding*: Too many columns → inefficient and sparse.  \n",
    "  - *Label Encoding*: Imposes artificial ordering → meaningless for categories.  \n",
    "  - *Dropping the feature*: Would lose potentially useful predictive information.  \n",
    "\n",
    "👉 Therefore, we apply **TF-IDF vectorization** to `subject`.\n"
   ]
  },
  {
   "cell_type": "code",
   "execution_count": 92,
   "id": "b47c15a9",
   "metadata": {},
   "outputs": [
    {
     "name": "stdout",
     "output_type": "stream",
     "text": [
      "Shape of train subject features: (10238, 178)\n"
     ]
    }
   ],
   "source": [
    "# Join subject text (if necessary) - here it's already a string\n",
    "train_subjects = train_df['subject'].fillna(\"\").astype(str)\n",
    "valid_subjects = valid_df['subject'].fillna(\"\").astype(str)\n",
    "test_subjects  = test_df['subject'].fillna(\"\").astype(str)\n",
    "\n",
    "# Initialize TF-IDF vectorizer for subject\n",
    "tfidf_subject = TfidfVectorizer(max_features=500)  # limit to 500 for efficiency\n",
    "\n",
    "# Fit on train and transform train, valid, test\n",
    "X_train_subject = tfidf_subject.fit_transform(train_subjects)\n",
    "X_valid_subject = tfidf_subject.transform(valid_subjects)\n",
    "X_test_subject  = tfidf_subject.transform(test_subjects)\n",
    "\n",
    "print(\"Shape of train subject features:\", X_train_subject.shape)"
   ]
  },
  {
   "cell_type": "code",
   "execution_count": 93,
   "id": "a63f1b36",
   "metadata": {},
   "outputs": [],
   "source": [
    "train_df = train_df.drop(columns=['subject'])\n",
    "valid_df = valid_df.drop(columns=['subject'])\n",
    "test_df  = test_df.drop(columns=['subject'])"
   ]
  },
  {
   "cell_type": "markdown",
   "id": "39d1a801",
   "metadata": {},
   "source": [
    "### Handling `speaker` Feature\n",
    "\n",
    "We are keeping the **speaker** feature because some speakers may consistently make statements with certain veracity patterns, which can help the model.\n",
    "\n",
    "- **Why Frequency Encoding?**\n",
    "  - `speaker` has very high cardinality (~2910 unique values), so one-hot encoding would create too many sparse columns.\n",
    "  - Frequency encoding replaces each speaker with the number of statements they have in the training set.\n",
    "  - This converts the feature into a meaningful numerical value without exploding dimensionality.\n",
    "\n",
    "- **Why not other methods?**\n",
    "  - *One-hot Encoding*: Creates thousands of columns → inefficient.\n",
    "  - *Label Encoding*: Artificial ordering → meaningless.\n",
    "  - *TF-IDF*: Not very informative for proper names.\n",
    "  - *Dropping the feature*: Loses potentially useful predictive information.\n",
    "\n",
    "👉 Therefore, we apply **frequency encoding** to `speaker`.\n"
   ]
  },
  {
   "cell_type": "code",
   "execution_count": 94,
   "id": "ec4296b2",
   "metadata": {},
   "outputs": [],
   "source": [
    "# Calculate frequency of each speaker in train set\n",
    "speaker_freq = train_df['speaker'].value_counts().to_dict()\n",
    "\n",
    "# Overwrite 'speaker' column with frequency encoding\n",
    "train_df['speaker'] = train_df['speaker'].map(speaker_freq).fillna(0)\n",
    "valid_df['speaker'] = valid_df['speaker'].map(speaker_freq).fillna(0)\n",
    "test_df['speaker']  = test_df['speaker'].map(speaker_freq).fillna(0)"
   ]
  },
  {
   "cell_type": "markdown",
   "id": "c1edd8d3",
   "metadata": {},
   "source": [
    "### Handling `state` Feature "
   ]
  },
  {
   "cell_type": "code",
   "execution_count": 95,
   "id": "0dc56f98",
   "metadata": {},
   "outputs": [
    {
     "name": "stdout",
     "output_type": "stream",
     "text": [
      "Unique states in train: ['Texas' 'Virginia' 'Illinois' 'Unknown' 'Florida' 'Wisconsin'\n",
      " 'New Jersey' 'Vermont' 'Massachusetts' 'Maryland' 'Washington, D.C. '\n",
      " 'Oregon' 'New York' 'Washington, D.C.' 'California' 'Missouri'\n",
      " 'Rhode Island' 'West Virginia' 'Arkansas' 'New Hampshire' 'Ohio'\n",
      " 'Georgia' 'Arizona' 'Wyoming' 'Delaware' 'Kentucky' 'Kansas' 'ohio'\n",
      " 'Colorado' 'North Carolina' 'New Mexico' 'Illinois ' 'Alaska'\n",
      " 'South Carolina' 'Minnesota' 'Tennessee' 'Pennsylvania' 'Iowa'\n",
      " 'Connecticut' 'Louisiana' 'Indiana' 'Florida ' 'Utah' 'Michigan'\n",
      " 'Oklahoma' 'Nevada' 'Oregon ' 'Virgina' 'Nebraska' 'Georgia '\n",
      " 'Washington D.C.' 'California ' 'Massachusetts ' 'Alabama' 'Russia'\n",
      " 'Washington state' 'Washington' 'District of Columbia' 'Colorado '\n",
      " 'New Hampshire ' 'Mississippi' 'Rhode island' 'China' 'United Kingdom'\n",
      " 'Virginia ' 'South Dakota' 'Qatar' 'Montana' 'North Dakota' 'Idaho'\n",
      " 'Maine' 'New York ' 'Virginia director, Coalition to Stop Gun Violence'\n",
      " 'Virgiia' 'Hawaii' 'Atlanta' 'Tennesse' 'Washington DC' 'Wisconsin '\n",
      " 'PA - Pennsylvania' 'Tex' 'the United States' 'Rhode Island ']\n",
      "Number of unique states: 83\n"
     ]
    }
   ],
   "source": [
    "# Fill missing state values with 'Unknown'\n",
    "train_df['state'] = train_df['state'].fillna('Unknown')\n",
    "valid_df['state'] = valid_df['state'].fillna('Unknown')\n",
    "test_df['state']  = test_df['state'].fillna('Unknown')\n",
    "\n",
    "# Check unique values for manual inspection\n",
    "print(\"Unique states in train:\", train_df['state'].unique())\n",
    "print(\"Number of unique states:\", len(train_df['state'].unique()))\n"
   ]
  },
  {
   "cell_type": "markdown",
   "id": "83c7aee9",
   "metadata": {},
   "source": [
    "We filled missing values in the 'state' column with 'Unknown' to retain all rows for modeling. \n",
    "This ensures that missing information is explicitly represented without dropping data. \n",
    "We then print the unique values to manually inspect and standardize inconsistent entries (e.g., typos, extra spaces, duplicate names) before encoding.\n"
   ]
  },
  {
   "cell_type": "markdown",
   "id": "21dab928",
   "metadata": {},
   "source": [
    "We cleaned and standardized the 'state' column to remove duplicates, fix typos, and handle inconsistent formatting. \n",
    "This ensures that each unique state is represented consistently, preventing unnecessary duplication of one-hot encoded columns \n",
    "and maintaining meaningful categorical features for the model. Non-state entries and missing values were mapped to 'Other' or 'Unknown'.\n"
   ]
  },
  {
   "cell_type": "code",
   "execution_count": 96,
   "id": "e361dfb9",
   "metadata": {},
   "outputs": [
    {
     "name": "stdout",
     "output_type": "stream",
     "text": [
      "Unique states after cleaning: ['Texas' 'Virginia' 'Illinois' 'Other' 'Florida' 'Wisconsin' 'New Jersey'\n",
      " 'Vermont' 'Massachusetts' 'Maryland' 'Washington D.C.' 'Oregon'\n",
      " 'New York' 'California' 'Missouri' 'Rhode Island' 'West Virginia'\n",
      " 'Arkansas' 'New Hampshire' 'Ohio' 'Georgia' 'Arizona' 'Wyoming'\n",
      " 'Delaware' 'Kentucky' 'Kansas' 'Colorado' 'North Carolina' 'New Mexico'\n",
      " 'Alaska' 'South Carolina' 'Minnesota' 'Tennessee' 'Pennsylvania' 'Iowa'\n",
      " 'Connecticut' 'Louisiana' 'Indiana' 'Utah' 'Michigan' 'Oklahoma' 'Nevada'\n",
      " 'Nebraska' 'Alabama' 'Washington' 'Mississippi' 'South Dakota' 'Montana'\n",
      " 'North Dakota' 'Idaho' 'Maine' 'Hawaii']\n",
      "Number of unique states: 52\n"
     ]
    }
   ],
   "source": [
    "# Updated mapping for cleaning and standardizing state names\n",
    "state_mapping = {\n",
    "    'ohio': 'Ohio',\n",
    "    'Virgina': 'Virginia',\n",
    "    'Virgiia': 'Virginia',\n",
    "    'Virginia ': 'Virginia',\n",
    "    'Tex': 'Texas',\n",
    "    'Florida ': 'Florida',\n",
    "    'Massachusetts ': 'Massachusetts',\n",
    "    'Illinois ': 'Illinois',\n",
    "    'Rhode island': 'Rhode Island',\n",
    "    'Rhode Island ': 'Rhode Island',\n",
    "    'Washington, D.C.': 'Washington D.C.',\n",
    "    'Washington, D.C. ': 'Washington D.C.',\n",
    "    'Washington D.C.': 'Washington D.C.',\n",
    "    'Washington DC': 'Washington D.C.',\n",
    "    'District of Columbia': 'Washington D.C.',\n",
    "    'Washington state': 'Washington',\n",
    "    'PA - Pennsylvania': 'Pennsylvania',\n",
    "    'Atlanta': 'Other',\n",
    "    'Russia': 'Other',\n",
    "    'China': 'Other',\n",
    "    'United Kingdom': 'Other',\n",
    "    'the United States': 'Other',\n",
    "    'New Hampshire ': 'New Hampshire',\n",
    "    'California ': 'California',\n",
    "    'Wisconsin ': 'Wisconsin',\n",
    "    'Unknown': 'Other',\n",
    "    'Oregon ': 'Oregon',\n",
    "    'Georgia ': 'Georgia',\n",
    "    'New York ': 'New York',\n",
    "    'Colorado ': 'Colorado',\n",
    "    'Qatar': 'Other',\n",
    "    'Virginia director, Coalition to Stop Gun Violence': 'Virginia',\n",
    "    'Tennesse': 'Tennessee'\n",
    "}\n",
    "\n",
    "# Apply mapping and fill remaining NaNs with 'Other'\n",
    "for df in [train_df, valid_df, test_df]:\n",
    "    df['state'] = df['state'].replace(state_mapping).fillna('Other')\n",
    "\n",
    "# Display unique states after cleaning\n",
    "print(\"Unique states after cleaning:\", train_df['state'].unique())\n",
    "print(\"Number of unique states:\", len(train_df['state'].unique()))\n",
    "\n",
    "# One-hot encode\n",
    "train_df = pd.get_dummies(train_df, columns=['state'], prefix='state')\n",
    "valid_df = pd.get_dummies(valid_df, columns=['state'], prefix='state')\n",
    "test_df  = pd.get_dummies(test_df,  columns=['state'], prefix='state')\n",
    "\n",
    "# Align columns so train/valid/test all have same structure\n",
    "train_df, valid_df = train_df.align(valid_df, join='left', axis=1, fill_value=0)\n",
    "train_df, test_df  = train_df.align(test_df,  join='left', axis=1, fill_value=0)\n"
   ]
  },
  {
   "cell_type": "code",
   "execution_count": 97,
   "id": "064a12be",
   "metadata": {},
   "outputs": [],
   "source": [
    "# Drop the original 'state' column if it still exists\n",
    "for df in [train_df, valid_df, test_df]:\n",
    "    if 'state' in df.columns:\n",
    "        df.drop(columns=['state'], inplace=True)"
   ]
  },
  {
   "cell_type": "markdown",
   "id": "8f73f88e",
   "metadata": {},
   "source": [
    "### Drop 'job_title' column\n",
    "We are dropping the 'job_title' column because it has very high cardinality, many missing values, and sparse unique entries. \n",
    "Encoding it (via one-hot, frequency, or label encoding) would either create too many columns or introduce noise. \n",
    "Other features like 'statement', 'state', and 'party' already provide strong information for the model.\n"
   ]
  },
  {
   "cell_type": "code",
   "execution_count": 98,
   "id": "2b097569",
   "metadata": {},
   "outputs": [],
   "source": [
    "# Drop 'job_title' from train, valid, and test datasets\n",
    "train_df = train_df.drop(columns=['job_title'])\n",
    "valid_df = valid_df.drop(columns=['job_title'])\n",
    "test_df  = test_df.drop(columns=['job_title'])"
   ]
  },
  {
   "cell_type": "markdown",
   "id": "a7d20afb",
   "metadata": {},
   "source": [
    "##### Basic text cleaning"
   ]
  },
  {
   "cell_type": "code",
   "execution_count": 99,
   "id": "4693ea8b",
   "metadata": {},
   "outputs": [
    {
     "data": {
      "text/html": [
       "<div>\n",
       "<style scoped>\n",
       "    .dataframe tbody tr th:only-of-type {\n",
       "        vertical-align: middle;\n",
       "    }\n",
       "\n",
       "    .dataframe tbody tr th {\n",
       "        vertical-align: top;\n",
       "    }\n",
       "\n",
       "    .dataframe thead th {\n",
       "        text-align: right;\n",
       "    }\n",
       "</style>\n",
       "<table border=\"1\" class=\"dataframe\">\n",
       "  <thead>\n",
       "    <tr style=\"text-align: right;\">\n",
       "      <th></th>\n",
       "      <th>statement</th>\n",
       "      <th>statement_clean</th>\n",
       "    </tr>\n",
       "  </thead>\n",
       "  <tbody>\n",
       "    <tr>\n",
       "      <th>0</th>\n",
       "      <td>Says the Annies List political group supports ...</td>\n",
       "      <td>says annies list political group supports thir...</td>\n",
       "    </tr>\n",
       "    <tr>\n",
       "      <th>1</th>\n",
       "      <td>When did the decline of coal start? It started...</td>\n",
       "      <td>decline coal start started natural gas took st...</td>\n",
       "    </tr>\n",
       "    <tr>\n",
       "      <th>2</th>\n",
       "      <td>Hillary Clinton agrees with John McCain \"by vo...</td>\n",
       "      <td>hillary clinton agrees john mccain voting give...</td>\n",
       "    </tr>\n",
       "    <tr>\n",
       "      <th>3</th>\n",
       "      <td>Health care reform legislation is likely to ma...</td>\n",
       "      <td>health care reform legislation likely mandate ...</td>\n",
       "    </tr>\n",
       "    <tr>\n",
       "      <th>4</th>\n",
       "      <td>The economic turnaround started at the end of ...</td>\n",
       "      <td>economic turnaround started end term</td>\n",
       "    </tr>\n",
       "  </tbody>\n",
       "</table>\n",
       "</div>"
      ],
      "text/plain": [
       "                                           statement  \\\n",
       "0  Says the Annies List political group supports ...   \n",
       "1  When did the decline of coal start? It started...   \n",
       "2  Hillary Clinton agrees with John McCain \"by vo...   \n",
       "3  Health care reform legislation is likely to ma...   \n",
       "4  The economic turnaround started at the end of ...   \n",
       "\n",
       "                                     statement_clean  \n",
       "0  says annies list political group supports thir...  \n",
       "1  decline coal start started natural gas took st...  \n",
       "2  hillary clinton agrees john mccain voting give...  \n",
       "3  health care reform legislation likely mandate ...  \n",
       "4               economic turnaround started end term  "
      ]
     },
     "execution_count": 99,
     "metadata": {},
     "output_type": "execute_result"
    }
   ],
   "source": [
    "def clean_text(text):\n",
    "    # Lowercase\n",
    "    text = text.lower()\n",
    "    # Remove punctuation, numbers, special characters\n",
    "    text = re.sub(r'[^a-z\\s]', '', text)\n",
    "    # Remove stopwords\n",
    "    text = ' '.join([word for word in text.split() if word not in stop_words])\n",
    "    return text\n",
    "\n",
    "# Apply to train, valid, and test\n",
    "train_df['statement_clean'] = train_df['statement'].apply(clean_text)\n",
    "valid_df['statement_clean'] = valid_df['statement'].apply(clean_text)\n",
    "test_df['statement_clean']  = test_df['statement'].apply(clean_text)\n",
    "\n",
    "# Preview\n",
    "train_df[['statement', 'statement_clean']].head()"
   ]
  },
  {
   "cell_type": "markdown",
   "id": "1e2704ce",
   "metadata": {},
   "source": [
    "##### Tokenization"
   ]
  },
  {
   "cell_type": "code",
   "execution_count": 100,
   "id": "a073ab7c",
   "metadata": {},
   "outputs": [],
   "source": [
    "# Simple whitespace tokenization\n",
    "train_df['tokens'] = train_df['statement_clean'].apply(lambda x: x.split())\n",
    "valid_df['tokens'] = valid_df['statement_clean'].apply(lambda x: x.split())\n",
    "test_df['tokens']  = test_df['statement_clean'].apply(lambda x: x.split())"
   ]
  },
  {
   "cell_type": "code",
   "execution_count": 101,
   "id": "15e89142",
   "metadata": {},
   "outputs": [
    {
     "data": {
      "text/html": [
       "<div>\n",
       "<style scoped>\n",
       "    .dataframe tbody tr th:only-of-type {\n",
       "        vertical-align: middle;\n",
       "    }\n",
       "\n",
       "    .dataframe tbody tr th {\n",
       "        vertical-align: top;\n",
       "    }\n",
       "\n",
       "    .dataframe thead th {\n",
       "        text-align: right;\n",
       "    }\n",
       "</style>\n",
       "<table border=\"1\" class=\"dataframe\">\n",
       "  <thead>\n",
       "    <tr style=\"text-align: right;\">\n",
       "      <th></th>\n",
       "      <th>statement_clean</th>\n",
       "      <th>tokens</th>\n",
       "    </tr>\n",
       "  </thead>\n",
       "  <tbody>\n",
       "    <tr>\n",
       "      <th>0</th>\n",
       "      <td>says annies list political group supports thir...</td>\n",
       "      <td>[says, annies, list, political, group, support...</td>\n",
       "    </tr>\n",
       "    <tr>\n",
       "      <th>1</th>\n",
       "      <td>decline coal start started natural gas took st...</td>\n",
       "      <td>[decline, coal, start, started, natural, gas, ...</td>\n",
       "    </tr>\n",
       "    <tr>\n",
       "      <th>2</th>\n",
       "      <td>hillary clinton agrees john mccain voting give...</td>\n",
       "      <td>[hillary, clinton, agrees, john, mccain, votin...</td>\n",
       "    </tr>\n",
       "    <tr>\n",
       "      <th>3</th>\n",
       "      <td>health care reform legislation likely mandate ...</td>\n",
       "      <td>[health, care, reform, legislation, likely, ma...</td>\n",
       "    </tr>\n",
       "    <tr>\n",
       "      <th>4</th>\n",
       "      <td>economic turnaround started end term</td>\n",
       "      <td>[economic, turnaround, started, end, term]</td>\n",
       "    </tr>\n",
       "  </tbody>\n",
       "</table>\n",
       "</div>"
      ],
      "text/plain": [
       "                                     statement_clean  \\\n",
       "0  says annies list political group supports thir...   \n",
       "1  decline coal start started natural gas took st...   \n",
       "2  hillary clinton agrees john mccain voting give...   \n",
       "3  health care reform legislation likely mandate ...   \n",
       "4               economic turnaround started end term   \n",
       "\n",
       "                                              tokens  \n",
       "0  [says, annies, list, political, group, support...  \n",
       "1  [decline, coal, start, started, natural, gas, ...  \n",
       "2  [hillary, clinton, agrees, john, mccain, votin...  \n",
       "3  [health, care, reform, legislation, likely, ma...  \n",
       "4         [economic, turnaround, started, end, term]  "
      ]
     },
     "execution_count": 101,
     "metadata": {},
     "output_type": "execute_result"
    }
   ],
   "source": [
    "# Preview\n",
    "train_df[['statement_clean', 'tokens']].head()"
   ]
  },
  {
   "cell_type": "markdown",
   "id": "c9a41b72",
   "metadata": {},
   "source": [
    "#### Normalizing "
   ]
  },
  {
   "cell_type": "markdown",
   "id": "4b265caf",
   "metadata": {},
   "source": [
    "##### Lemmatization of Tokens\n",
    "- We use **lemmatization** instead of stemming because it preserves the actual dictionary form of words, maintaining their meaning. This is crucial for Fake News detection, where subtle differences in word meaning can affect the model's understanding.  \n",
    "- Stemming, on the other hand, produces non-words and may reduce the quality of features.\n"
   ]
  },
  {
   "cell_type": "code",
   "execution_count": 102,
   "id": "e451dee9",
   "metadata": {},
   "outputs": [
    {
     "data": {
      "text/html": [
       "<div>\n",
       "<style scoped>\n",
       "    .dataframe tbody tr th:only-of-type {\n",
       "        vertical-align: middle;\n",
       "    }\n",
       "\n",
       "    .dataframe tbody tr th {\n",
       "        vertical-align: top;\n",
       "    }\n",
       "\n",
       "    .dataframe thead th {\n",
       "        text-align: right;\n",
       "    }\n",
       "</style>\n",
       "<table border=\"1\" class=\"dataframe\">\n",
       "  <thead>\n",
       "    <tr style=\"text-align: right;\">\n",
       "      <th></th>\n",
       "      <th>tokens</th>\n",
       "      <th>tokens_lem</th>\n",
       "    </tr>\n",
       "  </thead>\n",
       "  <tbody>\n",
       "    <tr>\n",
       "      <th>0</th>\n",
       "      <td>[says, annies, list, political, group, support...</td>\n",
       "      <td>[say, annies, list, political, group, support,...</td>\n",
       "    </tr>\n",
       "    <tr>\n",
       "      <th>1</th>\n",
       "      <td>[decline, coal, start, started, natural, gas, ...</td>\n",
       "      <td>[decline, coal, start, started, natural, gas, ...</td>\n",
       "    </tr>\n",
       "    <tr>\n",
       "      <th>2</th>\n",
       "      <td>[hillary, clinton, agrees, john, mccain, votin...</td>\n",
       "      <td>[hillary, clinton, agrees, john, mccain, votin...</td>\n",
       "    </tr>\n",
       "    <tr>\n",
       "      <th>3</th>\n",
       "      <td>[health, care, reform, legislation, likely, ma...</td>\n",
       "      <td>[health, care, reform, legislation, likely, ma...</td>\n",
       "    </tr>\n",
       "    <tr>\n",
       "      <th>4</th>\n",
       "      <td>[economic, turnaround, started, end, term]</td>\n",
       "      <td>[economic, turnaround, started, end, term]</td>\n",
       "    </tr>\n",
       "  </tbody>\n",
       "</table>\n",
       "</div>"
      ],
      "text/plain": [
       "                                              tokens  \\\n",
       "0  [says, annies, list, political, group, support...   \n",
       "1  [decline, coal, start, started, natural, gas, ...   \n",
       "2  [hillary, clinton, agrees, john, mccain, votin...   \n",
       "3  [health, care, reform, legislation, likely, ma...   \n",
       "4         [economic, turnaround, started, end, term]   \n",
       "\n",
       "                                          tokens_lem  \n",
       "0  [say, annies, list, political, group, support,...  \n",
       "1  [decline, coal, start, started, natural, gas, ...  \n",
       "2  [hillary, clinton, agrees, john, mccain, votin...  \n",
       "3  [health, care, reform, legislation, likely, ma...  \n",
       "4         [economic, turnaround, started, end, term]  "
      ]
     },
     "execution_count": 102,
     "metadata": {},
     "output_type": "execute_result"
    }
   ],
   "source": [
    "lemmatizer = WordNetLemmatizer()\n",
    "\n",
    "# Apply lemmatization to tokens\n",
    "def lemmatize_tokens(tokens):\n",
    "    return [lemmatizer.lemmatize(token) for token in tokens]\n",
    "\n",
    "train_df['tokens_lem'] = train_df['tokens'].apply(lemmatize_tokens)\n",
    "valid_df['tokens_lem'] = valid_df['tokens'].apply(lemmatize_tokens)\n",
    "test_df['tokens_lem']  = test_df['tokens'].apply(lemmatize_tokens)\n",
    "\n",
    "# Preview\n",
    "train_df[['tokens', 'tokens_lem']].head()"
   ]
  },
  {
   "cell_type": "markdown",
   "id": "79f0251a",
   "metadata": {},
   "source": [
    "#### Feature extraction / Vectorization"
   ]
  },
  {
   "cell_type": "markdown",
   "id": "873aea4e",
   "metadata": {},
   "source": [
    "##### TF-IDF Vectorization\n",
    "We use **TF-IDF (Term Frequency–Inverse Document Frequency)** to convert the lemmatized tokens into numeric features.  \n",
    "\n",
    "**Why TF-IDF?**  \n",
    "- Highlights words that are **important and distinctive** for each statement.  \n",
    "- Reduces the influence of very common words that appear in almost all statements.  \n",
    "- Typically performs better than simple Bag-of-Words for text classification tasks like Fake News detection.  \n",
    "\n",
    "**Why not Bag-of-Words?**  \n",
    "- Bag-of-Words treats all words equally, giving too much weight to frequent but uninformative words.  \n",
    "- TF-IDF focuses on words that help the model differentiate between classes.\n",
    "\n",
    "**Why not Embeddings (Word2Vec, GloVe, BERT, etc.)?**  \n",
    "- Embeddings capture semantic meaning, which is powerful but more complex to implement.  \n",
    "- They require more computational resources and a more advanced model architecture (e.g., deep learning).  \n",
    "- For a **first baseline model**, TF-IDF is simpler, faster, and easier to use with classical ML classifiers.\n"
   ]
  },
  {
   "cell_type": "code",
   "execution_count": 103,
   "id": "420da6c6",
   "metadata": {},
   "outputs": [
    {
     "name": "stdout",
     "output_type": "stream",
     "text": [
      "Shape of train features: (10238, 10000)\n"
     ]
    }
   ],
   "source": [
    "# Join lemmatized tokens back into a single string for vectorizer\n",
    "train_texts = train_df['tokens_lem'].apply(lambda x: ' '.join(x))\n",
    "valid_texts = valid_df['tokens_lem'].apply(lambda x: ' '.join(x))\n",
    "test_texts  = test_df['tokens_lem'].apply(lambda x: ' '.join(x))\n",
    "\n",
    "# Initialize TF-IDF vectorizer\n",
    "tfidf = TfidfVectorizer(max_features=10000)  # limit vocabulary size for efficiency\n",
    "\n",
    "# Fit on train and transform train, valid, test\n",
    "X_train = tfidf.fit_transform(train_texts)\n",
    "X_valid = tfidf.transform(valid_texts)\n",
    "X_test  = tfidf.transform(test_texts)\n",
    "\n",
    "# Target labels\n",
    "y_train = train_df['label']\n",
    "y_valid = valid_df['label']\n",
    "y_test  = test_df['label']\n",
    "\n",
    "print(\"Shape of train features:\", X_train.shape)"
   ]
  },
  {
   "cell_type": "markdown",
   "id": "7309f378",
   "metadata": {},
   "source": [
    "### Feature Engineering and Combination\n",
    "\n",
    "We transformed and combined all features as follows:\n",
    "\n",
    "1. **Statement (`statement`)**  \n",
    "   - Preprocessed using tokenization, stopword removal, and lemmatization.  \n",
    "   - Converted into a **TF-IDF vector** (`X_train`, `X_valid`, `X_test`) with a maximum vocabulary of 5000.  \n",
    "\n",
    "2. **Subject (`subject`)**  \n",
    "   - Filled missing values with empty strings.  \n",
    "   - Converted into a **TF-IDF vector** (`X_train_subject`, `X_valid_subject`, `X_test_subject`) with a maximum of 500 features.  \n",
    "\n",
    "3. **Speaker (`speaker`)**  \n",
    "   - Encoded by **frequency mapping** (number of times the speaker appears in the training set).  \n",
    "\n",
    "4. **Party (`party`)**  \n",
    "   - One-hot encoded to represent each category as a binary feature.  \n",
    "\n",
    "5. **State (`state`)**  \n",
    "   - Cleaned and mapped inconsistent state names.  \n",
    "   - One-hot encoded after filling missing values with `'Other'`.  \n",
    "\n",
    "6. **Numerical features**  \n",
    "   - Included counts for `barely_true`, `false`, `half_true`, `mostly_true`, and `pants_fire`.  \n",
    "\n",
    "7. **Dropping unnecessary columns**  \n",
    "   - Removed `id`, `context`, `job_title`, `statement_clean`, `tokens`, `tokens_lem` from the feature matrix.  \n",
    "\n",
    "8. **Combining all features**  \n",
    "   - Converted all numeric and one-hot features to **sparse matrices**.  \n",
    "   - Horizontally stacked **statement TF-IDF**, **subject TF-IDF**, and **numeric/OHE features** using `scipy.sparse.hstack` to create the final matrices:  \n",
    "     - `X_train_all`  \n",
    "     - `X_valid_all`  \n",
    "     - `X_test_all`  \n",
    "\n",
    "This approach ensures all text, categorical, and numerical features are properly represented in a single high-dimensional sparse matrix, ready for modeling.\n"
   ]
  },
  {
   "cell_type": "code",
   "execution_count": 104,
   "id": "fb6ccd26",
   "metadata": {},
   "outputs": [
    {
     "name": "stdout",
     "output_type": "stream",
     "text": [
      "Shape of combined train features: (10238, 10208)\n",
      "Shape of combined valid features: (1284, 10216)\n",
      "Shape of combined test features: (1267, 10217)\n"
     ]
    }
   ],
   "source": [
    "# --------- Prepare numeric / one-hot features ----------\n",
    "# Drop text columns that can't go into sparse matrix\n",
    "drop_cols = ['statement', 'statement_clean', 'tokens', 'tokens_lem']\n",
    "\n",
    "# Select numeric/OHE columns only\n",
    "train_cat_num = train_df.drop(columns=drop_cols, errors='ignore').select_dtypes(include=[np.number])\n",
    "valid_cat_num = valid_df.drop(columns=drop_cols, errors='ignore').select_dtypes(include=[np.number])\n",
    "test_cat_num  = test_df.drop(columns=drop_cols, errors='ignore').select_dtypes(include=[np.number])\n",
    "\n",
    "# Convert to sparse\n",
    "X_train_cat = csr_matrix(train_cat_num.values)\n",
    "X_valid_cat = csr_matrix(valid_cat_num.values)\n",
    "X_test_cat  = csr_matrix(test_cat_num.values)\n",
    "\n",
    "# --------- Combine all features ----------\n",
    "X_train_all = hstack([X_train, X_train_subject, X_train_cat])\n",
    "X_valid_all = hstack([X_valid, X_valid_subject, X_valid_cat])\n",
    "X_test_all  = hstack([X_test, X_test_subject, X_test_cat])\n",
    "\n",
    "print(\"Shape of combined train features:\", X_train_all.shape)\n",
    "print(\"Shape of combined valid features:\", X_valid_all.shape)\n",
    "print(\"Shape of combined test features:\", X_test_all.shape)\n"
   ]
  },
  {
   "cell_type": "code",
   "execution_count": 105,
   "id": "18aa3666",
   "metadata": {},
   "outputs": [],
   "source": [
    "y_train = train_df['label']\n",
    "y_valid = valid_df['label']\n",
    "y_test  = test_df['label']\n"
   ]
  },
  {
   "cell_type": "code",
   "execution_count": 106,
   "id": "c7d55924",
   "metadata": {},
   "outputs": [
    {
     "name": "stdout",
     "output_type": "stream",
     "text": [
      "Shape of combined train features: (10238, 10208)\n",
      "Shape of combined valid features: (1284, 10216)\n",
      "Shape of combined test features: (1267, 10217)\n",
      "Aligned shapes:\n",
      "Train: (10238, 10208)\n",
      "Valid: (1284, 10208)\n",
      "Test:  (1267, 10208)\n"
     ]
    }
   ],
   "source": [
    "# --------- Combine all features ----------\n",
    "X_train_all = hstack([X_train, X_train_subject, X_train_cat])\n",
    "X_valid_all = hstack([X_valid, X_valid_subject, X_valid_cat])\n",
    "X_test_all  = hstack([X_test, X_test_subject, X_test_cat])\n",
    "\n",
    "print(\"Shape of combined train features:\", X_train_all.shape)\n",
    "print(\"Shape of combined valid features:\", X_valid_all.shape)\n",
    "print(\"Shape of combined test features:\", X_test_all.shape)\n",
    "\n",
    "# --------- Align validation and test with train ----------\n",
    "from scipy.sparse import hstack\n",
    "\n",
    "def align_features(X_train, X_other):\n",
    "    X_train = csr_matrix(X_train)\n",
    "    X_other = csr_matrix(X_other)\n",
    "    \n",
    "    n_train = X_train.shape[1]\n",
    "    n_other = X_other.shape[1]\n",
    "    \n",
    "    if n_other < n_train:\n",
    "        extra_cols = csr_matrix(np.zeros((X_other.shape[0], n_train - n_other)))\n",
    "        X_other = hstack([X_other, extra_cols])\n",
    "    elif n_other > n_train:\n",
    "        X_other = X_other[:, :n_train]\n",
    "    \n",
    "    return X_other\n",
    "\n",
    "X_valid_all = align_features(X_train_all, X_valid_all)\n",
    "X_test_all  = align_features(X_train_all, X_test_all)\n",
    "\n",
    "print(\"Aligned shapes:\")\n",
    "print(\"Train:\", X_train_all.shape)\n",
    "print(\"Valid:\", X_valid_all.shape)\n",
    "print(\"Test: \", X_test_all.shape)\n"
   ]
  },
  {
   "cell_type": "markdown",
   "id": "25440317",
   "metadata": {},
   "source": [
    "## Model Suitability for High-Dimensional, Text-Heavy Sparse Data\n",
    "\n",
    "| Model Type                  | Suitability        | Reason / Notes                                                                 |\n",
    "|------------------------------|-----------------|-------------------------------------------------------------------------------|\n",
    "| **Multinomial/Bernoulli Naive Bayes** | Best             | Naturally handles high-dimensional sparse features (TF-IDF). Very fast.       |\n",
    "| **Logistic Regression (L1/L2)**       | Best             | Efficient with sparse data. Regularization helps prevent overfitting.        |\n",
    "| **LinearSVC (SVM)**                     | Best             | Works well with high-dimensional sparse text. Effective for classification.  |\n",
    "| **SGDClassifier (Linear)**              | Best             | Handles large sparse datasets efficiently.                                     |\n",
    "| **Random Forest**                        | Good             | Handles mixed features, but slow and memory-intensive on high-dimensional sparse data. |\n",
    "| **XGBoost / LightGBM**                   | Good             | Can handle numerical + OHE features. Performs well but slower with sparse TF-IDF. |"
   ]
  },
  {
   "cell_type": "code",
   "execution_count": 107,
   "id": "3231925f",
   "metadata": {},
   "outputs": [
    {
     "name": "stdout",
     "output_type": "stream",
     "text": [
      "\n",
      "Training MultinomialNB...\n",
      "MultinomialNB Validation Accuracy: 0.3045\n",
      "\n",
      "Training LogisticRegression...\n"
     ]
    },
    {
     "name": "stderr",
     "output_type": "stream",
     "text": [
      "c:\\Users\\37789\\OneDrive\\Documents\\GitHub\\VeracityCheck-Fake_News_Classifier\\venv\\Lib\\site-packages\\sklearn\\linear_model\\_logistic.py:473: ConvergenceWarning: lbfgs failed to converge after 1000 iteration(s) (status=1):\n",
      "STOP: TOTAL NO. OF ITERATIONS REACHED LIMIT\n",
      "\n",
      "Increase the number of iterations to improve the convergence (max_iter=1000).\n",
      "You might also want to scale the data as shown in:\n",
      "    https://scikit-learn.org/stable/modules/preprocessing.html\n",
      "Please also refer to the documentation for alternative solver options:\n",
      "    https://scikit-learn.org/stable/modules/linear_model.html#logistic-regression\n",
      "  n_iter_i = _check_optimize_result(\n"
     ]
    },
    {
     "name": "stdout",
     "output_type": "stream",
     "text": [
      "LogisticRegression Validation Accuracy: 0.9229\n",
      "\n",
      "Training LinearSVC...\n",
      "LinearSVC Validation Accuracy: 0.6184\n",
      "\n",
      "Training SGDClassifier...\n",
      "SGDClassifier Validation Accuracy: 0.6012\n",
      "\n",
      "Training RandomForest...\n",
      "RandomForest Validation Accuracy: 0.8808\n",
      "\n",
      "Training XGBoost...\n"
     ]
    },
    {
     "name": "stderr",
     "output_type": "stream",
     "text": [
      "c:\\Users\\37789\\OneDrive\\Documents\\GitHub\\VeracityCheck-Fake_News_Classifier\\venv\\Lib\\site-packages\\xgboost\\training.py:183: UserWarning: [22:01:01] WARNING: C:\\actions-runner\\_work\\xgboost\\xgboost\\src\\learner.cc:738: \n",
      "Parameters: { \"use_label_encoder\" } are not used.\n",
      "\n",
      "  bst.update(dtrain, iteration=i, fobj=obj)\n"
     ]
    },
    {
     "name": "stdout",
     "output_type": "stream",
     "text": [
      "XGBoost Validation Accuracy: 1.0000\n"
     ]
    }
   ],
   "source": [
    "# Dictionary to store models and results\n",
    "models = {\n",
    "    \"MultinomialNB\": MultinomialNB(),\n",
    "    \"LogisticRegression\": LogisticRegression(max_iter=1000),\n",
    "    \"LinearSVC\": LinearSVC(max_iter=5000),\n",
    "    \"SGDClassifier\": SGDClassifier(max_iter=5000),\n",
    "    \"RandomForest\": RandomForestClassifier(n_estimators=100, random_state=42),\n",
    "    \"XGBoost\": XGBClassifier(use_label_encoder=False, eval_metric='mlogloss', random_state=42)\n",
    "}\n",
    "\n",
    "\n",
    "results = {}\n",
    "\n",
    "for name, model in models.items():\n",
    "    print(f\"\\nTraining {name}...\")\n",
    "    \n",
    "    # For RF and XGB, convert sparse to dense\n",
    "    if name in [\"RandomForest\", \"XGBoost\"]:\n",
    "        X_train_model = X_train_all.toarray()\n",
    "        X_valid_model = X_valid_all.toarray()\n",
    "    else:\n",
    "        X_train_model = X_train_all\n",
    "        X_valid_model = X_valid_all\n",
    "    \n",
    "    # Train\n",
    "    model.fit(X_train_model, y_train)\n",
    "    \n",
    "    # Predict\n",
    "    y_pred = model.predict(X_valid_model)\n",
    "    \n",
    "    # Evaluate\n",
    "    acc = accuracy_score(y_valid, y_pred)\n",
    "    print(f\"{name} Validation Accuracy: {acc:.4f}\")\n",
    "    \n",
    "    results[name] = acc\n"
   ]
  },
  {
   "cell_type": "code",
   "execution_count": null,
   "id": "ac3ac771",
   "metadata": {},
   "outputs": [],
   "source": []
  }
 ],
 "metadata": {
  "kernelspec": {
   "display_name": "venv",
   "language": "python",
   "name": "python3"
  },
  "language_info": {
   "codemirror_mode": {
    "name": "ipython",
    "version": 3
   },
   "file_extension": ".py",
   "mimetype": "text/x-python",
   "name": "python",
   "nbconvert_exporter": "python",
   "pygments_lexer": "ipython3",
   "version": "3.13.7"
  }
 },
 "nbformat": 4,
 "nbformat_minor": 5
}
